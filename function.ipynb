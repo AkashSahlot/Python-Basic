{
 "cells": [
  {
   "cell_type": "code",
   "execution_count": 1,
   "id": "bec5679d",
   "metadata": {},
   "outputs": [],
   "source": [
    "def test10(l):\n",
    "    a=0\n",
    "    for i in l:\n",
    "        if type(i)==int:\n",
    "            a=i+a\n",
    "    return a"
   ]
  },
  {
   "cell_type": "code",
   "execution_count": 2,
   "id": "0c1072f9",
   "metadata": {},
   "outputs": [],
   "source": [
    "l=[1,2,3,4,5,\"Akash\",6,7,8,9,10]"
   ]
  },
  {
   "cell_type": "code",
   "execution_count": 3,
   "id": "6be496b5",
   "metadata": {},
   "outputs": [
    {
     "data": {
      "text/plain": [
       "55"
      ]
     },
     "execution_count": 3,
     "metadata": {},
     "output_type": "execute_result"
    }
   ],
   "source": [
    "test10(l)"
   ]
  },
  {
   "cell_type": "code",
   "execution_count": 4,
   "id": "f18b59a4",
   "metadata": {},
   "outputs": [],
   "source": [
    "def test11(a,b):\n",
    "    return a+b"
   ]
  },
  {
   "cell_type": "code",
   "execution_count": 11,
   "id": "7cefe2a9",
   "metadata": {},
   "outputs": [],
   "source": [
    "b=test11(2,3)"
   ]
  },
  {
   "cell_type": "code",
   "execution_count": 12,
   "id": "094a40e1",
   "metadata": {},
   "outputs": [
    {
     "data": {
      "text/plain": [
       "5"
      ]
     },
     "execution_count": 12,
     "metadata": {},
     "output_type": "execute_result"
    }
   ],
   "source": [
    "b"
   ]
  },
  {
   "cell_type": "code",
   "execution_count": 13,
   "id": "1bf92658",
   "metadata": {},
   "outputs": [
    {
     "data": {
      "text/plain": [
       "int"
      ]
     },
     "execution_count": 13,
     "metadata": {},
     "output_type": "execute_result"
    }
   ],
   "source": [
    "type(b)"
   ]
  },
  {
   "cell_type": "code",
   "execution_count": 8,
   "id": "8107a639",
   "metadata": {},
   "outputs": [],
   "source": [
    "a=test11(\"Akash\",\"Sahlot\")"
   ]
  },
  {
   "cell_type": "code",
   "execution_count": 9,
   "id": "b2fa2c7e",
   "metadata": {},
   "outputs": [
    {
     "data": {
      "text/plain": [
       "'AkashSahlot'"
      ]
     },
     "execution_count": 9,
     "metadata": {},
     "output_type": "execute_result"
    }
   ],
   "source": [
    "a"
   ]
  },
  {
   "cell_type": "code",
   "execution_count": 10,
   "id": "c2c68947",
   "metadata": {},
   "outputs": [
    {
     "data": {
      "text/plain": [
       "str"
      ]
     },
     "execution_count": 10,
     "metadata": {},
     "output_type": "execute_result"
    }
   ],
   "source": [
    "type(a)"
   ]
  },
  {
   "cell_type": "code",
   "execution_count": 14,
   "id": "b9d428fd",
   "metadata": {},
   "outputs": [
    {
     "data": {
      "text/plain": [
       "15"
      ]
     },
     "execution_count": 14,
     "metadata": {},
     "output_type": "execute_result"
    }
   ],
   "source": [
    "test11(a=10,b=5)"
   ]
  },
  {
   "cell_type": "code",
   "execution_count": 16,
   "id": "843f67f4",
   "metadata": {},
   "outputs": [
    {
     "data": {
      "text/plain": [
       "15"
      ]
     },
     "execution_count": 16,
     "metadata": {},
     "output_type": "execute_result"
    }
   ],
   "source": [
    "test11(b=5,a=10)"
   ]
  },
  {
   "cell_type": "code",
   "execution_count": 17,
   "id": "a4998cbf",
   "metadata": {},
   "outputs": [],
   "source": [
    "l = [3,4,5,6,7,8,\"Akash\",5,6,7,\"Sahlot\",\"Yamnaya\"]"
   ]
  },
  {
   "cell_type": "code",
   "execution_count": 19,
   "id": "388864ea",
   "metadata": {},
   "outputs": [],
   "source": [
    "def test12(x):\n",
    "    a=list()\n",
    "    for i in x:\n",
    "        if type(i)==str:\n",
    "            a.append(i)\n",
    "        else:\n",
    "            pass\n",
    "    return a\n",
    "        "
   ]
  },
  {
   "cell_type": "code",
   "execution_count": 20,
   "id": "4240c8bf",
   "metadata": {},
   "outputs": [
    {
     "data": {
      "text/plain": [
       "['Akash', 'Sahlot', 'Yamnaya']"
      ]
     },
     "execution_count": 20,
     "metadata": {},
     "output_type": "execute_result"
    }
   ],
   "source": [
    "test12(l)"
   ]
  },
  {
   "cell_type": "markdown",
   "id": "5e5e9b84",
   "metadata": {},
   "source": [
    "1. Write a function which will try to find out len of a string without using an inbuilt len function"
   ]
  },
  {
   "cell_type": "code",
   "execution_count": 4,
   "id": "083a71c9",
   "metadata": {},
   "outputs": [],
   "source": [
    "def length(l):\n",
    "    \"\"\"This function will count the length of string \"\"\"\n",
    "    count=0\n",
    "    for i in l:\n",
    "        if type(i)==str:\n",
    "            count=count+1\n",
    "       \n",
    "        \n",
    "    return count"
   ]
  },
  {
   "cell_type": "code",
   "execution_count": 5,
   "id": "3d4bb3a0",
   "metadata": {},
   "outputs": [],
   "source": [
    "x=\"What is this behavior\""
   ]
  },
  {
   "cell_type": "code",
   "execution_count": 6,
   "id": "cd3a515d",
   "metadata": {},
   "outputs": [
    {
     "data": {
      "text/plain": [
       "21"
      ]
     },
     "execution_count": 6,
     "metadata": {},
     "output_type": "execute_result"
    }
   ],
   "source": [
    "length(x)"
   ]
  },
  {
   "cell_type": "markdown",
   "id": "9f033b5c",
   "metadata": {},
   "source": [
    "2. Write a function which will be able to print an index of list element"
   ]
  },
  {
   "cell_type": "code",
   "execution_count": 50,
   "id": "d6809203",
   "metadata": {},
   "outputs": [],
   "source": [
    "def indx(l):\n",
    "    \"\"\"This function will print the index of list element \"\"\"\n",
    "    for i in range(len(l)):\n",
    "        print(f\"Index:{i}  element:{l[i]}\")\n",
    "    "
   ]
  },
  {
   "cell_type": "code",
   "execution_count": 51,
   "id": "131b3631",
   "metadata": {},
   "outputs": [],
   "source": [
    "l= [1,2,3,4,5,\"Akash\",\"Sahlot\"]"
   ]
  },
  {
   "cell_type": "code",
   "execution_count": 52,
   "id": "c2364149",
   "metadata": {},
   "outputs": [
    {
     "name": "stdout",
     "output_type": "stream",
     "text": [
      "Index:0  element:1\n",
      "Index:1  element:2\n",
      "Index:2  element:3\n",
      "Index:3  element:4\n",
      "Index:4  element:5\n",
      "Index:5  element:Akash\n",
      "Index:6  element:Sahlot\n"
     ]
    }
   ],
   "source": [
    "indx(l)"
   ]
  },
  {
   "cell_type": "markdown",
   "id": "10ebb100",
   "metadata": {},
   "source": [
    "3. Write a function to print an ip address"
   ]
  },
  {
   "cell_type": "code",
   "execution_count": 9,
   "id": "029b2def",
   "metadata": {},
   "outputs": [],
   "source": [
    "import socket\n",
    "def test2():\n",
    "    \n",
    "    ip=socket.gethostbyname(socket.gethostname())\n",
    "    return ip"
   ]
  },
  {
   "cell_type": "code",
   "execution_count": 10,
   "id": "6866735f",
   "metadata": {},
   "outputs": [
    {
     "data": {
      "text/plain": [
       "'192.168.1.37'"
      ]
     },
     "execution_count": 10,
     "metadata": {},
     "output_type": "execute_result"
    }
   ],
   "source": [
    "test2()"
   ]
  },
  {
   "cell_type": "code",
   "execution_count": null,
   "id": "b912c76d",
   "metadata": {},
   "outputs": [],
   "source": []
  },
  {
   "cell_type": "markdown",
   "id": "7272ce93",
   "metadata": {},
   "source": [
    "4. write a function which will shutdown your system"
   ]
  },
  {
   "cell_type": "markdown",
   "id": "861ba3b8",
   "metadata": {},
   "source": [
    "import os\n",
    "def shutdown():\n",
    "    shut=os.system(shutdown/s /t 4)\n",
    "    \n",
    "    return shut\n",
    "    "
   ]
  },
  {
   "cell_type": "code",
   "execution_count": null,
   "id": "4b93da0e",
   "metadata": {},
   "outputs": [],
   "source": []
  },
  {
   "cell_type": "code",
   "execution_count": null,
   "id": "85433d93",
   "metadata": {},
   "outputs": [],
   "source": []
  },
  {
   "cell_type": "markdown",
   "id": "65c08455",
   "metadata": {},
   "source": [
    "5. write a function which will take input as a list with any kind of numeric value and give an output as a multiplication of all the numeric data"
   ]
  },
  {
   "cell_type": "code",
   "execution_count": 13,
   "id": "b640c7ea",
   "metadata": {},
   "outputs": [],
   "source": [
    "l=[1,2.5,3,4,5,\"Akash\"]\n",
    "\n",
    "def test3(l):\n",
    "    mul=1\n",
    "    for i in l:\n",
    "        if type(i)==int or type(i)==float:\n",
    "            mul=mul*i\n",
    "            \n",
    "    return mul"
   ]
  },
  {
   "cell_type": "code",
   "execution_count": 14,
   "id": "f5a783fb",
   "metadata": {},
   "outputs": [
    {
     "data": {
      "text/plain": [
       "150.0"
      ]
     },
     "execution_count": 14,
     "metadata": {},
     "output_type": "execute_result"
    }
   ],
   "source": [
    "test3(l)"
   ]
  },
  {
   "cell_type": "markdown",
   "id": "a313467a",
   "metadata": {},
   "source": [
    "6. write a function which will be able to read all the mails"
   ]
  },
  {
   "cell_type": "code",
   "execution_count": null,
   "id": "7d09ebf6",
   "metadata": {},
   "outputs": [],
   "source": []
  },
  {
   "cell_type": "markdown",
   "id": "7a6a5159",
   "metadata": {},
   "source": [
    "7. write a function which will be able to send a mail to anyone"
   ]
  },
  {
   "cell_type": "code",
   "execution_count": 15,
   "id": "91a9c0d0",
   "metadata": {},
   "outputs": [
    {
     "ename": "SMTPResponseException",
     "evalue": "(535, b'5.7.8 Username and Password not accepted. Learn more at\\n5.7.8  https://support.google.com/mail/?p=BadCredentials p6-20020a62ab06000000b0058e264958b7sm3513947pff.91 - gsmtp')",
     "output_type": "error",
     "traceback": [
      "\u001b[1;31m---------------------------------------------------------------------------\u001b[0m",
      "\u001b[1;31mTypeError\u001b[0m                                 Traceback (most recent call last)",
      "\u001b[1;32m~\\AppData\\Local\\Temp\\ipykernel_14436\\2182522322.py\u001b[0m in \u001b[0;36m<module>\u001b[1;34m\u001b[0m\n\u001b[0;32m     10\u001b[0m \u001b[1;32mwith\u001b[0m \u001b[0msmtplib\u001b[0m\u001b[1;33m.\u001b[0m\u001b[0mSMTP_SSL\u001b[0m\u001b[1;33m(\u001b[0m\u001b[0msmtp_server\u001b[0m\u001b[1;33m,\u001b[0m\u001b[0mport\u001b[0m\u001b[1;33m,\u001b[0m\u001b[0mcontext\u001b[0m\u001b[1;33m=\u001b[0m\u001b[0mcontext\u001b[0m\u001b[1;33m)\u001b[0m \u001b[1;32mas\u001b[0m \u001b[0mserver\u001b[0m\u001b[1;33m:\u001b[0m\u001b[1;33m\u001b[0m\u001b[1;33m\u001b[0m\u001b[0m\n\u001b[1;32m---> 11\u001b[1;33m     \u001b[0mserver\u001b[0m\u001b[1;33m.\u001b[0m\u001b[0mlogin\u001b[0m\u001b[1;33m(\u001b[0m\u001b[0msender_email\u001b[0m\u001b[1;33m,\u001b[0m\u001b[0mpassword\u001b[0m\u001b[1;33m)\u001b[0m\u001b[1;33m\u001b[0m\u001b[1;33m\u001b[0m\u001b[0m\n\u001b[0m\u001b[0;32m     12\u001b[0m     \u001b[0mserver\u001b[0m\u001b[1;33m.\u001b[0m\u001b[0msendmail\u001b[0m\u001b[1;33m(\u001b[0m\u001b[0msender_email\u001b[0m\u001b[1;33m,\u001b[0m\u001b[0mreceiver_email\u001b[0m\u001b[1;33m,\u001b[0m\u001b[0mmessage\u001b[0m\u001b[1;33m)\u001b[0m\u001b[1;33m\u001b[0m\u001b[1;33m\u001b[0m\u001b[0m\n",
      "\u001b[1;32m~\\anaconda3\\lib\\smtplib.py\u001b[0m in \u001b[0;36mlogin\u001b[1;34m(self, user, password, initial_response_ok)\u001b[0m\n\u001b[0;32m    738\u001b[0m             \u001b[1;32mtry\u001b[0m\u001b[1;33m:\u001b[0m\u001b[1;33m\u001b[0m\u001b[1;33m\u001b[0m\u001b[0m\n\u001b[1;32m--> 739\u001b[1;33m                 (code, resp) = self.auth(\n\u001b[0m\u001b[0;32m    740\u001b[0m                     \u001b[0mauthmethod\u001b[0m\u001b[1;33m,\u001b[0m \u001b[0mgetattr\u001b[0m\u001b[1;33m(\u001b[0m\u001b[0mself\u001b[0m\u001b[1;33m,\u001b[0m \u001b[0mmethod_name\u001b[0m\u001b[1;33m)\u001b[0m\u001b[1;33m,\u001b[0m\u001b[1;33m\u001b[0m\u001b[1;33m\u001b[0m\u001b[0m\n",
      "\u001b[1;32m~\\anaconda3\\lib\\smtplib.py\u001b[0m in \u001b[0;36mauth\u001b[1;34m(self, mechanism, authobject, initial_response_ok)\u001b[0m\n\u001b[0;32m    652\u001b[0m                 authobject(challenge).encode('ascii'), eol='')\n\u001b[1;32m--> 653\u001b[1;33m             \u001b[1;33m(\u001b[0m\u001b[0mcode\u001b[0m\u001b[1;33m,\u001b[0m \u001b[0mresp\u001b[0m\u001b[1;33m)\u001b[0m \u001b[1;33m=\u001b[0m \u001b[0mself\u001b[0m\u001b[1;33m.\u001b[0m\u001b[0mdocmd\u001b[0m\u001b[1;33m(\u001b[0m\u001b[0mresponse\u001b[0m\u001b[1;33m)\u001b[0m\u001b[1;33m\u001b[0m\u001b[1;33m\u001b[0m\u001b[0m\n\u001b[0m\u001b[0;32m    654\u001b[0m             \u001b[1;31m# If server keeps sending challenges, something is wrong.\u001b[0m\u001b[1;33m\u001b[0m\u001b[1;33m\u001b[0m\u001b[0m\n",
      "\u001b[1;32m~\\anaconda3\\lib\\smtplib.py\u001b[0m in \u001b[0;36mdocmd\u001b[1;34m(self, cmd, args)\u001b[0m\n\u001b[0;32m    430\u001b[0m         \u001b[1;34m\"\"\"Send a command, and return its response code.\"\"\"\u001b[0m\u001b[1;33m\u001b[0m\u001b[1;33m\u001b[0m\u001b[0m\n\u001b[1;32m--> 431\u001b[1;33m         \u001b[0mself\u001b[0m\u001b[1;33m.\u001b[0m\u001b[0mputcmd\u001b[0m\u001b[1;33m(\u001b[0m\u001b[0mcmd\u001b[0m\u001b[1;33m,\u001b[0m \u001b[0margs\u001b[0m\u001b[1;33m)\u001b[0m\u001b[1;33m\u001b[0m\u001b[1;33m\u001b[0m\u001b[0m\n\u001b[0m\u001b[0;32m    432\u001b[0m         \u001b[1;32mreturn\u001b[0m \u001b[0mself\u001b[0m\u001b[1;33m.\u001b[0m\u001b[0mgetreply\u001b[0m\u001b[1;33m(\u001b[0m\u001b[1;33m)\u001b[0m\u001b[1;33m\u001b[0m\u001b[1;33m\u001b[0m\u001b[0m\n",
      "\u001b[1;32m~\\anaconda3\\lib\\smtplib.py\u001b[0m in \u001b[0;36mputcmd\u001b[1;34m(self, cmd, args)\u001b[0m\n\u001b[0;32m    372\u001b[0m             \u001b[0ms\u001b[0m \u001b[1;33m=\u001b[0m \u001b[1;34mf'{cmd} {args}'\u001b[0m\u001b[1;33m\u001b[0m\u001b[1;33m\u001b[0m\u001b[0m\n\u001b[1;32m--> 373\u001b[1;33m         \u001b[1;32mif\u001b[0m \u001b[1;34m'\\r'\u001b[0m \u001b[1;32min\u001b[0m \u001b[0ms\u001b[0m \u001b[1;32mor\u001b[0m \u001b[1;34m'\\n'\u001b[0m \u001b[1;32min\u001b[0m \u001b[0ms\u001b[0m\u001b[1;33m:\u001b[0m\u001b[1;33m\u001b[0m\u001b[1;33m\u001b[0m\u001b[0m\n\u001b[0m\u001b[0;32m    374\u001b[0m             \u001b[0ms\u001b[0m \u001b[1;33m=\u001b[0m \u001b[0ms\u001b[0m\u001b[1;33m.\u001b[0m\u001b[0mreplace\u001b[0m\u001b[1;33m(\u001b[0m\u001b[1;34m'\\n'\u001b[0m\u001b[1;33m,\u001b[0m \u001b[1;34m'\\\\n'\u001b[0m\u001b[1;33m)\u001b[0m\u001b[1;33m.\u001b[0m\u001b[0mreplace\u001b[0m\u001b[1;33m(\u001b[0m\u001b[1;34m'\\r'\u001b[0m\u001b[1;33m,\u001b[0m \u001b[1;34m'\\\\r'\u001b[0m\u001b[1;33m)\u001b[0m\u001b[1;33m\u001b[0m\u001b[1;33m\u001b[0m\u001b[0m\n",
      "\u001b[1;31mTypeError\u001b[0m: a bytes-like object is required, not 'str'",
      "\nDuring handling of the above exception, another exception occurred:\n",
      "\u001b[1;31mSMTPResponseException\u001b[0m                     Traceback (most recent call last)",
      "\u001b[1;32m~\\AppData\\Local\\Temp\\ipykernel_14436\\2182522322.py\u001b[0m in \u001b[0;36m<module>\u001b[1;34m\u001b[0m\n\u001b[0;32m     10\u001b[0m \u001b[1;32mwith\u001b[0m \u001b[0msmtplib\u001b[0m\u001b[1;33m.\u001b[0m\u001b[0mSMTP_SSL\u001b[0m\u001b[1;33m(\u001b[0m\u001b[0msmtp_server\u001b[0m\u001b[1;33m,\u001b[0m\u001b[0mport\u001b[0m\u001b[1;33m,\u001b[0m\u001b[0mcontext\u001b[0m\u001b[1;33m=\u001b[0m\u001b[0mcontext\u001b[0m\u001b[1;33m)\u001b[0m \u001b[1;32mas\u001b[0m \u001b[0mserver\u001b[0m\u001b[1;33m:\u001b[0m\u001b[1;33m\u001b[0m\u001b[1;33m\u001b[0m\u001b[0m\n\u001b[0;32m     11\u001b[0m     \u001b[0mserver\u001b[0m\u001b[1;33m.\u001b[0m\u001b[0mlogin\u001b[0m\u001b[1;33m(\u001b[0m\u001b[0msender_email\u001b[0m\u001b[1;33m,\u001b[0m\u001b[0mpassword\u001b[0m\u001b[1;33m)\u001b[0m\u001b[1;33m\u001b[0m\u001b[1;33m\u001b[0m\u001b[0m\n\u001b[1;32m---> 12\u001b[1;33m     \u001b[0mserver\u001b[0m\u001b[1;33m.\u001b[0m\u001b[0msendmail\u001b[0m\u001b[1;33m(\u001b[0m\u001b[0msender_email\u001b[0m\u001b[1;33m,\u001b[0m\u001b[0mreceiver_email\u001b[0m\u001b[1;33m,\u001b[0m\u001b[0mmessage\u001b[0m\u001b[1;33m)\u001b[0m\u001b[1;33m\u001b[0m\u001b[1;33m\u001b[0m\u001b[0m\n\u001b[0m",
      "\u001b[1;32m~\\anaconda3\\lib\\smtplib.py\u001b[0m in \u001b[0;36m__exit__\u001b[1;34m(self, *args)\u001b[0m\n\u001b[0;32m    282\u001b[0m             \u001b[0mcode\u001b[0m\u001b[1;33m,\u001b[0m \u001b[0mmessage\u001b[0m \u001b[1;33m=\u001b[0m \u001b[0mself\u001b[0m\u001b[1;33m.\u001b[0m\u001b[0mdocmd\u001b[0m\u001b[1;33m(\u001b[0m\u001b[1;34m\"QUIT\"\u001b[0m\u001b[1;33m)\u001b[0m\u001b[1;33m\u001b[0m\u001b[1;33m\u001b[0m\u001b[0m\n\u001b[0;32m    283\u001b[0m             \u001b[1;32mif\u001b[0m \u001b[0mcode\u001b[0m \u001b[1;33m!=\u001b[0m \u001b[1;36m221\u001b[0m\u001b[1;33m:\u001b[0m\u001b[1;33m\u001b[0m\u001b[1;33m\u001b[0m\u001b[0m\n\u001b[1;32m--> 284\u001b[1;33m                 \u001b[1;32mraise\u001b[0m \u001b[0mSMTPResponseException\u001b[0m\u001b[1;33m(\u001b[0m\u001b[0mcode\u001b[0m\u001b[1;33m,\u001b[0m \u001b[0mmessage\u001b[0m\u001b[1;33m)\u001b[0m\u001b[1;33m\u001b[0m\u001b[1;33m\u001b[0m\u001b[0m\n\u001b[0m\u001b[0;32m    285\u001b[0m         \u001b[1;32mexcept\u001b[0m \u001b[0mSMTPServerDisconnected\u001b[0m\u001b[1;33m:\u001b[0m\u001b[1;33m\u001b[0m\u001b[1;33m\u001b[0m\u001b[0m\n\u001b[0;32m    286\u001b[0m             \u001b[1;32mpass\u001b[0m\u001b[1;33m\u001b[0m\u001b[1;33m\u001b[0m\u001b[0m\n",
      "\u001b[1;31mSMTPResponseException\u001b[0m: (535, b'5.7.8 Username and Password not accepted. Learn more at\\n5.7.8  https://support.google.com/mail/?p=BadCredentials p6-20020a62ab06000000b0058e264958b7sm3513947pff.91 - gsmtp')"
     ]
    }
   ],
   "source": [
    "import smtplib, ssl\n",
    "port=465 # for ssl\n",
    "smtp_server = \"smtp.gmail.com\"\n",
    "sender_email=\"yashakash.singh7@gmail.com\" #Enter your address\n",
    "receiver_email =\"akashsahlot6@gmail.com\" # Enter receiver address\n",
    "password=''\n",
    "message =\"\"\"This is my python code\"\"\"\n",
    "\n",
    "context=ssl.create_default_context()\n",
    "with smtplib.SMTP_SSL(smtp_server,port,context=context) as server:\n",
    "    server.login(sender_email,password)\n",
    "    server.sendmail(sender_email,receiver_email,message)"
   ]
  },
  {
   "cell_type": "markdown",
   "id": "279ae008",
   "metadata": {},
   "source": [
    "8. write a function which will be able to read a doc/word file from your system"
   ]
  },
  {
   "cell_type": "code",
   "execution_count": null,
   "id": "87581ef8",
   "metadata": {},
   "outputs": [],
   "source": []
  }
 ],
 "metadata": {
  "kernelspec": {
   "display_name": "Python 3 (ipykernel)",
   "language": "python",
   "name": "python3"
  },
  "language_info": {
   "codemirror_mode": {
    "name": "ipython",
    "version": 3
   },
   "file_extension": ".py",
   "mimetype": "text/x-python",
   "name": "python",
   "nbconvert_exporter": "python",
   "pygments_lexer": "ipython3",
   "version": "3.9.13"
  }
 },
 "nbformat": 4,
 "nbformat_minor": 5
}
